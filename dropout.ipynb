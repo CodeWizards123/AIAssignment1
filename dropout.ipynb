{
 "cells": [
  {
   "cell_type": "code",
   "execution_count": 1,
   "metadata": {},
   "outputs": [],
   "source": [
    "# from pylab import *\n",
    "# import matplotlib.pyplot as plt\n",
    "# import os\n",
    "# import pyAgrum as gum\n",
    "# import pyAgrum.lib.ipython as gnb\n",
    "# import pyAgrum.lib.notebook as gnbb\n",
    "import pyAgrum as gum\n",
    "import pyAgrum.lib.notebook as gnb"
   ]
  },
  {
   "cell_type": "code",
   "execution_count": 2,
   "metadata": {},
   "outputs": [
    {
     "name": "stdout",
     "output_type": "stream",
     "text": [
      "BN =  BN{nodes: 0, arcs: 0, domainSize: 1, dim: 0, mem: 0o}\n"
     ]
    }
   ],
   "source": [
    "bn=gum.BayesNet('DropOutPredictor')\n",
    "print(\"BN = \",bn)"
   ]
  },
  {
   "cell_type": "code",
   "execution_count": 3,
   "metadata": {},
   "outputs": [
    {
     "name": "stdout",
     "output_type": "stream",
     "text": [
      "BN With vars :  BN{nodes: 5, arcs: 0, domainSize: 243, dim: 10, mem: 120o}\n"
     ]
    }
   ],
   "source": [
    "# Adding variables \n",
    "academic_performance=bn.add(gum.LabelizedVariable('Academic Performance','academic_performance', ['low', 'medium', 'high']))\n",
    "family_support=bn.add(gum.LabelizedVariable('Family Support', 'family_support', ['low', 'medium', 'high']))\n",
    "financial_support=bn.add(gum.LabelizedVariable('Financial Support', 'financial_support', ['low', 'medium', 'high']))\n",
    "social_support=bn.add(gum.LabelizedVariable('Social Support', 'social_support', ['low', 'medium', 'high']))\n",
    "likelihood_of_dropout=bn.add(gum.LabelizedVariable('Likelihood of Dropout', 'likelihood_of_dropout', ['low', 'medium', 'high']))\n",
    "\n",
    "print (\"BN With vars : \",bn)\n"
   ]
  },
  {
   "cell_type": "code",
   "execution_count": 4,
   "metadata": {},
   "outputs": [],
   "source": [
    "# Addding arcs between the nodes\n",
    "arcs = [(academic_performance, likelihood_of_dropout), (family_support, likelihood_of_dropout), (financial_support, likelihood_of_dropout), (social_support, likelihood_of_dropout)]\n",
    "for arc in arcs:\n",
    "    bn.addArc(*arc)"
   ]
  },
  {
   "cell_type": "code",
   "execution_count": 5,
   "metadata": {},
   "outputs": [],
   "source": [
    "# Define the conditional probability tables \n",
    "# I think we get this from data \n",
    "\n"
   ]
  },
  {
   "cell_type": "code",
   "execution_count": 6,
   "metadata": {},
   "outputs": [
    {
     "data": {
      "text/html": [
       "<svg xmlns=\"http://www.w3.org/2000/svg\" xmlns:xlink=\"http://www.w3.org/1999/xlink\" width=\"360pt\" height=\"64pt\" viewBox=\"0.00 0.00 360.00 63.61\">\n",
       "<g id=\"graph0\" class=\"graph\" transform=\"scale(0.548373 0.548373) rotate(0) translate(4 112)\">\n",
       "<title>G</title>\n",
       "<!-- Financial Support -->\n",
       "<g id=\"node1\" class=\"node\">\n",
       "<title>Financial Support</title>\n",
       "<g id=\"a_node1\"><a xlink:title=\"(2) Financial Support\">\n",
       "<ellipse fill=\"#404040\" stroke=\"black\" cx=\"73.44\" cy=\"-90\" rx=\"73.39\" ry=\"18\"/>\n",
       "<text text-anchor=\"middle\" x=\"73.44\" y=\"-86.3\" font-family=\"Times,serif\" font-size=\"14.00\" fill=\"white\">Financial Support</text>\n",
       "</a>\n",
       "</g>\n",
       "</g>\n",
       "<!-- Likelihood of Dropout -->\n",
       "<g id=\"node3\" class=\"node\">\n",
       "<title>Likelihood of Dropout</title>\n",
       "<g id=\"a_node3\"><a xlink:title=\"(4) Likelihood of Dropout\">\n",
       "<ellipse fill=\"#404040\" stroke=\"black\" cx=\"348.44\" cy=\"-18\" rx=\"90.98\" ry=\"18\"/>\n",
       "<text text-anchor=\"middle\" x=\"348.44\" y=\"-14.3\" font-family=\"Times,serif\" font-size=\"14.00\" fill=\"white\">Likelihood of Dropout</text>\n",
       "</a>\n",
       "</g>\n",
       "</g>\n",
       "<!-- Financial Support&#45;&gt;Likelihood of Dropout -->\n",
       "<g id=\"edge1\" class=\"edge\">\n",
       "<title>Financial Support-&gt;Likelihood of Dropout</title>\n",
       "<g id=\"a_edge1\"><a xlink:title=\"2 → 4\">\n",
       "<path fill=\"none\" stroke=\"#4a4a4a\" d=\"M122.93,-76.4C167.69,-65.01 233.91,-48.15 283.03,-35.65\"/>\n",
       "<polygon fill=\"#4a4a4a\" stroke=\"#4a4a4a\" points=\"283.88,-39.04 292.71,-33.19 282.16,-32.26 283.88,-39.04\"/>\n",
       "</a>\n",
       "</g>\n",
       "</g>\n",
       "<!-- Academic Performance -->\n",
       "<g id=\"node2\" class=\"node\">\n",
       "<title>Academic Performance</title>\n",
       "<g id=\"a_node2\"><a xlink:title=\"(0) Academic Performance\">\n",
       "<ellipse fill=\"#404040\" stroke=\"black\" cx=\"259.44\" cy=\"-90\" rx=\"94.78\" ry=\"18\"/>\n",
       "<text text-anchor=\"middle\" x=\"259.44\" y=\"-86.3\" font-family=\"Times,serif\" font-size=\"14.00\" fill=\"white\">Academic Performance</text>\n",
       "</a>\n",
       "</g>\n",
       "</g>\n",
       "<!-- Academic Performance&#45;&gt;Likelihood of Dropout -->\n",
       "<g id=\"edge2\" class=\"edge\">\n",
       "<title>Academic Performance-&gt;Likelihood of Dropout</title>\n",
       "<g id=\"a_edge2\"><a xlink:title=\"0 → 4\">\n",
       "<path fill=\"none\" stroke=\"#4a4a4a\" d=\"M280.99,-72.05C292.14,-63.28 305.94,-52.43 318.14,-42.83\"/>\n",
       "<polygon fill=\"#4a4a4a\" stroke=\"#4a4a4a\" points=\"320.21,-45.66 325.91,-36.72 315.88,-40.16 320.21,-45.66\"/>\n",
       "</a>\n",
       "</g>\n",
       "</g>\n",
       "<!-- Family Support -->\n",
       "<g id=\"node4\" class=\"node\">\n",
       "<title>Family Support</title>\n",
       "<g id=\"a_node4\"><a xlink:title=\"(1) Family Support\">\n",
       "<ellipse fill=\"#404040\" stroke=\"black\" cx=\"438.44\" cy=\"-90\" rx=\"66.09\" ry=\"18\"/>\n",
       "<text text-anchor=\"middle\" x=\"438.44\" y=\"-86.3\" font-family=\"Times,serif\" font-size=\"14.00\" fill=\"white\">Family Support</text>\n",
       "</a>\n",
       "</g>\n",
       "</g>\n",
       "<!-- Family Support&#45;&gt;Likelihood of Dropout -->\n",
       "<g id=\"edge4\" class=\"edge\">\n",
       "<title>Family Support-&gt;Likelihood of Dropout</title>\n",
       "<g id=\"a_edge4\"><a xlink:title=\"1 → 4\">\n",
       "<path fill=\"none\" stroke=\"#4a4a4a\" d=\"M417.57,-72.76C406.12,-63.86 391.71,-52.65 379.02,-42.78\"/>\n",
       "<polygon fill=\"#4a4a4a\" stroke=\"#4a4a4a\" points=\"381.38,-40.18 371.34,-36.81 377.08,-45.71 381.38,-40.18\"/>\n",
       "</a>\n",
       "</g>\n",
       "</g>\n",
       "<!-- Social Support -->\n",
       "<g id=\"node5\" class=\"node\">\n",
       "<title>Social Support</title>\n",
       "<g id=\"a_node5\"><a xlink:title=\"(3) Social Support\">\n",
       "<ellipse fill=\"#404040\" stroke=\"black\" cx=\"585.44\" cy=\"-90\" rx=\"63.09\" ry=\"18\"/>\n",
       "<text text-anchor=\"middle\" x=\"585.44\" y=\"-86.3\" font-family=\"Times,serif\" font-size=\"14.00\" fill=\"white\">Social Support</text>\n",
       "</a>\n",
       "</g>\n",
       "</g>\n",
       "<!-- Social Support&#45;&gt;Likelihood of Dropout -->\n",
       "<g id=\"edge3\" class=\"edge\">\n",
       "<title>Social Support-&gt;Likelihood of Dropout</title>\n",
       "<g id=\"a_edge3\"><a xlink:title=\"3 → 4\">\n",
       "<path fill=\"none\" stroke=\"#4a4a4a\" d=\"M542.8,-76.4C505.36,-65.35 450.5,-49.14 408.61,-36.77\"/>\n",
       "<polygon fill=\"#4a4a4a\" stroke=\"#4a4a4a\" points=\"409.74,-33.46 399.16,-33.98 407.76,-40.17 409.74,-33.46\"/>\n",
       "</a>\n",
       "</g>\n",
       "</g>\n",
       "</g>\n",
       "</svg>"
      ],
      "text/plain": [
       "(pyAgrum.BayesNet<double>@0x7ff275961c00) BN{nodes: 5, arcs: 4, domainSize: 243, dim: 170, mem: 1Ko 1016o}"
      ]
     },
     "execution_count": 6,
     "metadata": {},
     "output_type": "execute_result"
    }
   ],
   "source": [
    "bn"
   ]
  },
  {
   "cell_type": "code",
   "execution_count": 7,
   "metadata": {},
   "outputs": [],
   "source": [
    "# Compute the posterior probability of the likelihood of dropout - inference\n",
    "# ie.makeInference()\n",
    "ie = gum.VariableElimination(bn)\n",
    "#gnb.showInference(bn, evs={}, engine=ie)\n",
    "\n",
    "\n",
    "# Compile the Bayesian network \n",
    "# ie = gum.LazyPropagation(bn)\n",
    "\n",
    "\n",
    "# Set the evidence (observed nodes)\n",
    "#ie.setEvidence({'Academic Performance': 'low'})\n"
   ]
  }
 ],
 "metadata": {
  "kernelspec": {
   "display_name": "Python 3",
   "language": "python",
   "name": "python3"
  },
  "language_info": {
   "codemirror_mode": {
    "name": "ipython",
    "version": 3
   },
   "file_extension": ".py",
   "mimetype": "text/x-python",
   "name": "python",
   "nbconvert_exporter": "python",
   "pygments_lexer": "ipython3",
   "version": "3.9.6"
  },
  "orig_nbformat": 4
 },
 "nbformat": 4,
 "nbformat_minor": 2
}

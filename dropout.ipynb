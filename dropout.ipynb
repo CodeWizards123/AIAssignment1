{
 "cells": [
  {
   "cell_type": "code",
   "execution_count": 52,
   "metadata": {},
   "outputs": [],
   "source": [
    "import pyAgrum as gum\n",
    "import pyAgrum.lib.notebook as gnb"
   ]
  },
  {
   "cell_type": "code",
   "execution_count": 53,
   "metadata": {},
   "outputs": [
    {
     "name": "stdout",
     "output_type": "stream",
     "text": [
      "BN =  BN{nodes: 0, arcs: 0, domainSize: 1, dim: 0, mem: 0o}\n"
     ]
    }
   ],
   "source": [
    "bn=gum.BayesNet('DropOutPredictor')\n",
    "print(\"BN = \",bn)"
   ]
  },
  {
   "cell_type": "code",
   "execution_count": 54,
   "metadata": {},
   "outputs": [
    {
     "name": "stdout",
     "output_type": "stream",
     "text": [
      "BN With vars :  BN{nodes: 8, arcs: 0, domainSize: 2916, dim: 14, mem: 176o}\n"
     ]
    }
   ],
   "source": [
    "# Adding variables \n",
    "school_performance=bn.add(gum.LabelizedVariable('SchoolPerformance','school_performance', ['low', 'medium', 'high']))\n",
    "academic_performance=bn.add(gum.LabelizedVariable('AcademicPerformance','academic_performance', ['low', 'medium', 'high']))\n",
    "attendance=bn.add(gum.LabelizedVariable('Attendance','attendance', ['low', 'high']))\n",
    "family_support=bn.add(gum.LabelizedVariable('FamilySupport', 'family_support', ['low', 'medium', 'high']))\n",
    "financial_support=bn.add(gum.LabelizedVariable('FinancialSupport', 'financial_support', ['low', 'medium', 'high']))\n",
    "government_support=bn.add(gum.LabelizedVariable('GovernmentSupport', 'government_support', ['low', 'high']))\n",
    "social_support=bn.add(gum.LabelizedVariable('SocialSupport', 'social_support', ['low', 'medium', 'high']))\n",
    "likelihood_of_dropout=bn.add(gum.LabelizedVariable('LikelihoodOfDropout', 'likelihood_of_dropout', ['low', 'medium', 'high']))\n",
    "\n",
    "print (\"BN With vars : \",bn)\n"
   ]
  },
  {
   "cell_type": "code",
   "execution_count": 55,
   "metadata": {},
   "outputs": [],
   "source": [
    "# Addding arcs between the nodes\n",
    "arcs = [(school_performance, likelihood_of_dropout),(academic_performance, school_performance), (attendance, school_performance), (family_support, likelihood_of_dropout), (financial_support, likelihood_of_dropout), (government_support, financial_support),(social_support, likelihood_of_dropout)]\n",
    "for arc in arcs:\n",
    "    bn.addArc(*arc)"
   ]
  },
  {
   "cell_type": "code",
   "execution_count": 56,
   "metadata": {},
   "outputs": [],
   "source": [
    "# Define the conditional probability tables \n",
    "# I think we get this from data \n",
    "\n",
    "bn.cpt('Attendance').fillWith([0.1,0.9])\n",
    "\n",
    "bn.cpt('AcademicPerformance').fillWith([0.25,0.5,0.25])\n",
    "\n"
   ]
  },
  {
   "cell_type": "code",
   "execution_count": 57,
   "metadata": {},
   "outputs": [
    {
     "data": {
      "text/html": [
       "<svg xmlns=\"http://www.w3.org/2000/svg\" xmlns:xlink=\"http://www.w3.org/1999/xlink\" width=\"360pt\" height=\"110pt\" viewBox=\"0.00 0.00 360.00 110.20\">\n",
       "<g id=\"graph0\" class=\"graph\" transform=\"scale(0.586187 0.586187) rotate(0) translate(4 184)\">\n",
       "<title>G</title>\n",
       "<!-- FamilySupport -->\n",
       "<g id=\"node1\" class=\"node\">\n",
       "<title>FamilySupport</title>\n",
       "<g id=\"a_node1\"><a xlink:title=\"(3) FamilySupport\">\n",
       "<ellipse fill=\"#404040\" stroke=\"black\" cx=\"63.69\" cy=\"-90\" rx=\"63.89\" ry=\"18\"/>\n",
       "<text text-anchor=\"middle\" x=\"63.69\" y=\"-86.3\" font-family=\"Times,serif\" font-size=\"14.00\" fill=\"white\">FamilySupport</text>\n",
       "</a>\n",
       "</g>\n",
       "</g>\n",
       "<!-- LikelihoodOfDropout -->\n",
       "<g id=\"node8\" class=\"node\">\n",
       "<title>LikelihoodOfDropout</title>\n",
       "<g id=\"a_node8\"><a xlink:title=\"(7) LikelihoodOfDropout\">\n",
       "<ellipse fill=\"#404040\" stroke=\"black\" cx=\"301.69\" cy=\"-18\" rx=\"87.99\" ry=\"18\"/>\n",
       "<text text-anchor=\"middle\" x=\"301.69\" y=\"-14.3\" font-family=\"Times,serif\" font-size=\"14.00\" fill=\"white\">LikelihoodOfDropout</text>\n",
       "</a>\n",
       "</g>\n",
       "</g>\n",
       "<!-- FamilySupport&#45;&gt;LikelihoodOfDropout -->\n",
       "<g id=\"edge2\" class=\"edge\">\n",
       "<title>FamilySupport-&gt;LikelihoodOfDropout</title>\n",
       "<g id=\"a_edge2\"><a xlink:title=\"3 → 7\">\n",
       "<path fill=\"none\" stroke=\"#4a4a4a\" d=\"M106.79,-76.32C144.55,-65.22 199.79,-48.97 241.83,-36.61\"/>\n",
       "<polygon fill=\"#4a4a4a\" stroke=\"#4a4a4a\" points=\"242.7,-40 251.31,-33.82 240.72,-33.28 242.7,-40\"/>\n",
       "</a>\n",
       "</g>\n",
       "</g>\n",
       "<!-- AcademicPerformance -->\n",
       "<g id=\"node2\" class=\"node\">\n",
       "<title>AcademicPerformance</title>\n",
       "<g id=\"a_node2\"><a xlink:title=\"(1) AcademicPerformance\">\n",
       "<ellipse fill=\"#404040\" stroke=\"black\" cx=\"386.69\" cy=\"-162\" rx=\"92.08\" ry=\"18\"/>\n",
       "<text text-anchor=\"middle\" x=\"386.69\" y=\"-158.3\" font-family=\"Times,serif\" font-size=\"14.00\" fill=\"white\">AcademicPerformance</text>\n",
       "</a>\n",
       "</g>\n",
       "</g>\n",
       "<!-- SchoolPerformance -->\n",
       "<g id=\"node5\" class=\"node\">\n",
       "<title>SchoolPerformance</title>\n",
       "<g id=\"a_node5\"><a xlink:title=\"(0) SchoolPerformance\">\n",
       "<ellipse fill=\"#404040\" stroke=\"black\" cx=\"386.69\" cy=\"-90\" rx=\"80.69\" ry=\"18\"/>\n",
       "<text text-anchor=\"middle\" x=\"386.69\" y=\"-86.3\" font-family=\"Times,serif\" font-size=\"14.00\" fill=\"white\">SchoolPerformance</text>\n",
       "</a>\n",
       "</g>\n",
       "</g>\n",
       "<!-- AcademicPerformance&#45;&gt;SchoolPerformance -->\n",
       "<g id=\"edge6\" class=\"edge\">\n",
       "<title>AcademicPerformance-&gt;SchoolPerformance</title>\n",
       "<g id=\"a_edge6\"><a xlink:title=\"1 → 0\">\n",
       "<path fill=\"none\" stroke=\"#4a4a4a\" d=\"M386.69,-143.7C386.69,-136.41 386.69,-127.73 386.69,-119.54\"/>\n",
       "<polygon fill=\"#4a4a4a\" stroke=\"#4a4a4a\" points=\"390.19,-119.62 386.69,-109.62 383.19,-119.62 390.19,-119.62\"/>\n",
       "</a>\n",
       "</g>\n",
       "</g>\n",
       "<!-- FinancialSupport -->\n",
       "<g id=\"node3\" class=\"node\">\n",
       "<title>FinancialSupport</title>\n",
       "<g id=\"a_node3\"><a xlink:title=\"(4) FinancialSupport\">\n",
       "<ellipse fill=\"#404040\" stroke=\"black\" cx=\"216.69\" cy=\"-90\" rx=\"71.49\" ry=\"18\"/>\n",
       "<text text-anchor=\"middle\" x=\"216.69\" y=\"-86.3\" font-family=\"Times,serif\" font-size=\"14.00\" fill=\"white\">FinancialSupport</text>\n",
       "</a>\n",
       "</g>\n",
       "</g>\n",
       "<!-- FinancialSupport&#45;&gt;LikelihoodOfDropout -->\n",
       "<g id=\"edge7\" class=\"edge\">\n",
       "<title>FinancialSupport-&gt;LikelihoodOfDropout</title>\n",
       "<g id=\"a_edge7\"><a xlink:title=\"4 → 7\">\n",
       "<path fill=\"none\" stroke=\"#4a4a4a\" d=\"M236.84,-72.41C247.48,-63.65 260.73,-52.73 272.48,-43.06\"/>\n",
       "<polygon fill=\"#4a4a4a\" stroke=\"#4a4a4a\" points=\"274.44,-45.98 279.94,-36.92 269.99,-40.57 274.44,-45.98\"/>\n",
       "</a>\n",
       "</g>\n",
       "</g>\n",
       "<!-- GovernmentSupport -->\n",
       "<g id=\"node4\" class=\"node\">\n",
       "<title>GovernmentSupport</title>\n",
       "<g id=\"a_node4\"><a xlink:title=\"(5) GovernmentSupport\">\n",
       "<ellipse fill=\"#404040\" stroke=\"black\" cx=\"193.69\" cy=\"-162\" rx=\"83.39\" ry=\"18\"/>\n",
       "<text text-anchor=\"middle\" x=\"193.69\" y=\"-158.3\" font-family=\"Times,serif\" font-size=\"14.00\" fill=\"white\">GovernmentSupport</text>\n",
       "</a>\n",
       "</g>\n",
       "</g>\n",
       "<!-- GovernmentSupport&#45;&gt;FinancialSupport -->\n",
       "<g id=\"edge3\" class=\"edge\">\n",
       "<title>GovernmentSupport-&gt;FinancialSupport</title>\n",
       "<g id=\"a_edge3\"><a xlink:title=\"5 → 4\">\n",
       "<path fill=\"none\" stroke=\"#4a4a4a\" d=\"M199.38,-143.7C201.83,-136.24 204.76,-127.32 207.51,-118.97\"/>\n",
       "<polygon fill=\"#4a4a4a\" stroke=\"#4a4a4a\" points=\"210.81,-120.14 210.6,-109.54 204.16,-117.95 210.81,-120.14\"/>\n",
       "</a>\n",
       "</g>\n",
       "</g>\n",
       "<!-- SchoolPerformance&#45;&gt;LikelihoodOfDropout -->\n",
       "<g id=\"edge1\" class=\"edge\">\n",
       "<title>SchoolPerformance-&gt;LikelihoodOfDropout</title>\n",
       "<g id=\"a_edge1\"><a xlink:title=\"0 → 7\">\n",
       "<path fill=\"none\" stroke=\"#4a4a4a\" d=\"M366.55,-72.41C355.91,-63.65 342.65,-52.73 330.91,-43.06\"/>\n",
       "<polygon fill=\"#4a4a4a\" stroke=\"#4a4a4a\" points=\"333.4,-40.57 323.45,-36.92 328.95,-45.98 333.4,-40.57\"/>\n",
       "</a>\n",
       "</g>\n",
       "</g>\n",
       "<!-- Attendance -->\n",
       "<g id=\"node6\" class=\"node\">\n",
       "<title>Attendance</title>\n",
       "<g id=\"a_node6\"><a xlink:title=\"(2) Attendance\">\n",
       "<ellipse fill=\"#404040\" stroke=\"black\" cx=\"547.69\" cy=\"-162\" rx=\"50.89\" ry=\"18\"/>\n",
       "<text text-anchor=\"middle\" x=\"547.69\" y=\"-158.3\" font-family=\"Times,serif\" font-size=\"14.00\" fill=\"white\">Attendance</text>\n",
       "</a>\n",
       "</g>\n",
       "</g>\n",
       "<!-- Attendance&#45;&gt;SchoolPerformance -->\n",
       "<g id=\"edge4\" class=\"edge\">\n",
       "<title>Attendance-&gt;SchoolPerformance</title>\n",
       "<g id=\"a_edge4\"><a xlink:title=\"2 → 0\">\n",
       "<path fill=\"none\" stroke=\"#4a4a4a\" d=\"M516.65,-147.5C492.85,-137.16 459.64,-122.72 432.75,-111.02\"/>\n",
       "<polygon fill=\"#4a4a4a\" stroke=\"#4a4a4a\" points=\"434.37,-107.91 423.8,-107.13 431.58,-114.33 434.37,-107.91\"/>\n",
       "</a>\n",
       "</g>\n",
       "</g>\n",
       "<!-- SocialSupport -->\n",
       "<g id=\"node7\" class=\"node\">\n",
       "<title>SocialSupport</title>\n",
       "<g id=\"a_node7\"><a xlink:title=\"(6) SocialSupport\">\n",
       "<ellipse fill=\"#404040\" stroke=\"black\" cx=\"545.69\" cy=\"-90\" rx=\"60.39\" ry=\"18\"/>\n",
       "<text text-anchor=\"middle\" x=\"545.69\" y=\"-86.3\" font-family=\"Times,serif\" font-size=\"14.00\" fill=\"white\">SocialSupport</text>\n",
       "</a>\n",
       "</g>\n",
       "</g>\n",
       "<!-- SocialSupport&#45;&gt;LikelihoodOfDropout -->\n",
       "<g id=\"edge5\" class=\"edge\">\n",
       "<title>SocialSupport-&gt;LikelihoodOfDropout</title>\n",
       "<g id=\"a_edge5\"><a xlink:title=\"6 → 7\">\n",
       "<path fill=\"none\" stroke=\"#4a4a4a\" d=\"M503.19,-76.81C464.17,-65.61 405.94,-48.91 362.09,-36.33\"/>\n",
       "<polygon fill=\"#4a4a4a\" stroke=\"#4a4a4a\" points=\"363.31,-33.03 352.73,-33.64 361.38,-39.76 363.31,-33.03\"/>\n",
       "</a>\n",
       "</g>\n",
       "</g>\n",
       "</g>\n",
       "</svg>"
      ],
      "text/plain": [
       "(pyAgrum.BayesNet<double>@0x7ff272967000) BN{nodes: 8, arcs: 7, domainSize: 2916, dim: 186, mem: 2Ko 192o}"
      ]
     },
     "execution_count": 57,
     "metadata": {},
     "output_type": "execute_result"
    }
   ],
   "source": [
    "# Showing the BN\n",
    "bn"
   ]
  },
  {
   "cell_type": "code",
   "execution_count": 58,
   "metadata": {},
   "outputs": [],
   "source": [
    "# Compute the posterior probability of the likelihood of dropout - inference\n",
    "# ie.makeInference()\n",
    "ie = gum.VariableElimination(bn)\n",
    "#gnb.showInference(bn, evs={}, engine=ie)\n",
    "\n",
    "\n",
    "# Compile the Bayesian network \n",
    "# ie = gum.LazyPropagation(bn)\n",
    "\n",
    "\n",
    "# Set the evidence (observed nodes)\n",
    "#ie.setEvidence({'Academic Performance': 'low'})\n"
   ]
  }
 ],
 "metadata": {
  "kernelspec": {
   "display_name": "Python 3",
   "language": "python",
   "name": "python3"
  },
  "language_info": {
   "codemirror_mode": {
    "name": "ipython",
    "version": 3
   },
   "file_extension": ".py",
   "mimetype": "text/x-python",
   "name": "python",
   "nbconvert_exporter": "python",
   "pygments_lexer": "ipython3",
   "version": "3.9.6"
  },
  "orig_nbformat": 4
 },
 "nbformat": 4,
 "nbformat_minor": 2
}

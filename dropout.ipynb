{
 "cells": [
  {
   "cell_type": "code",
   "execution_count": 39,
   "metadata": {},
   "outputs": [],
   "source": [
    "import pyAgrum as gum\n",
    "import pyAgrum.lib.notebook as gnb"
   ]
  },
  {
   "cell_type": "code",
   "execution_count": 40,
   "metadata": {},
   "outputs": [
    {
     "name": "stdout",
     "output_type": "stream",
     "text": [
      "BN =  BN{nodes: 0, arcs: 0, domainSize: 1, dim: 0, mem: 0o}\n"
     ]
    }
   ],
   "source": [
    "bn=gum.BayesNet('DropOutPredictor')\n",
    "print(\"BN = \",bn)"
   ]
  },
  {
   "cell_type": "code",
   "execution_count": 41,
   "metadata": {},
   "outputs": [
    {
     "name": "stdout",
     "output_type": "stream",
     "text": [
      "BN With vars :  BN{nodes: 7, arcs: 0, domainSize: 648, dim: 11, mem: 144o}\n"
     ]
    }
   ],
   "source": [
    "# Adding variables \n",
    "school_motivation=bn.add(gum.LabelizedVariable('SchoolMotivation','schoolmotivation', ['low', 'medium', 'high']))\n",
    "academic_performance=bn.add(gum.LabelizedVariable('AcademicPerformance','academic_performance', ['low', 'medium', 'high']))\n",
    "attendance=bn.add(gum.LabelizedVariable('Attendance','attendance', ['low', 'high']))\n",
    "family_support=bn.add(gum.LabelizedVariable('FamilySupport', 'family_support', ['no', 'yes']))\n",
    "financial_support=bn.add(gum.LabelizedVariable('FinancialSupport', 'financial_support', ['low', 'medium', 'high']))\n",
    "government_support=bn.add(gum.LabelizedVariable('GovernmentSupport', 'government_support', ['no', 'yes']))\n",
    "#social_support=bn.add(gum.LabelizedVariable('SocialFactors', 'social_support', ['negative', 'neutral', 'positive']))\n",
    "likelihood_of_dropout=bn.add(gum.LabelizedVariable('LikelihoodOfDropout', 'likelihood_of_dropout', ['low', 'medium', 'high']))\n",
    "\n",
    "print (\"BN With vars : \",bn)\n"
   ]
  },
  {
   "cell_type": "code",
   "execution_count": 42,
   "metadata": {},
   "outputs": [],
   "source": [
    "# Addding arcs between the nodes\n",
    "arcs = [(school_motivation, likelihood_of_dropout),(academic_performance, school_motivation), (attendance, school_motivation), (family_support, likelihood_of_dropout), (financial_support, likelihood_of_dropout), (government_support, financial_support)]\n",
    "for arc in arcs:\n",
    "    bn.addArc(*arc)"
   ]
  },
  {
   "cell_type": "code",
   "execution_count": 43,
   "metadata": {},
   "outputs": [
    {
     "ename": "SizeError",
     "evalue": "[pyAgrum] incorrect size: Sizes do not match : 6!=3",
     "output_type": "error",
     "traceback": [
      "\u001b[0;31m---------------------------------------------------------------------------\u001b[0m",
      "\u001b[0;31mSizeError\u001b[0m                                 Traceback (most recent call last)",
      "Cell \u001b[0;32mIn[43], line 10\u001b[0m\n\u001b[1;32m      6\u001b[0m bn\u001b[38;5;241m.\u001b[39mcpt(\u001b[38;5;124m'\u001b[39m\u001b[38;5;124mAcademicPerformance\u001b[39m\u001b[38;5;124m'\u001b[39m)\u001b[38;5;241m.\u001b[39mfillWith([\u001b[38;5;241m0.2\u001b[39m,\u001b[38;5;241m0.65\u001b[39m,\u001b[38;5;241m0.15\u001b[39m])\n\u001b[1;32m      8\u001b[0m bn\u001b[38;5;241m.\u001b[39mcpt(\u001b[38;5;124m'\u001b[39m\u001b[38;5;124mGovernmentSupport\u001b[39m\u001b[38;5;124m'\u001b[39m)\u001b[38;5;241m.\u001b[39mfillWith([\u001b[38;5;241m0.92\u001b[39m,\u001b[38;5;241m0.08\u001b[39m])\n\u001b[0;32m---> 10\u001b[0m \u001b[43mbn\u001b[49m\u001b[38;5;241;43m.\u001b[39;49m\u001b[43mcpt\u001b[49m\u001b[43m(\u001b[49m\u001b[38;5;124;43m'\u001b[39;49m\u001b[38;5;124;43mFinancialSupport\u001b[39;49m\u001b[38;5;124;43m'\u001b[39;49m\u001b[43m)\u001b[49m\u001b[38;5;241;43m.\u001b[39;49m\u001b[43mfillWith\u001b[49m\u001b[43m(\u001b[49m\u001b[43m[\u001b[49m\u001b[38;5;241;43m0.5\u001b[39;49m\u001b[43m,\u001b[49m\u001b[38;5;241;43m0.35\u001b[39;49m\u001b[43m,\u001b[49m\u001b[38;5;241;43m0.15\u001b[39;49m\u001b[43m]\u001b[49m\u001b[43m)\u001b[49m\n\u001b[1;32m     12\u001b[0m bn\u001b[38;5;241m.\u001b[39mcpt(\u001b[38;5;124m'\u001b[39m\u001b[38;5;124mFamilySupport\u001b[39m\u001b[38;5;124m'\u001b[39m)\u001b[38;5;241m.\u001b[39mfillWith([\u001b[38;5;241m0.33\u001b[39m,\u001b[38;5;241m0.67\u001b[39m])\n\u001b[1;32m     14\u001b[0m bn\u001b[38;5;241m.\u001b[39mcpt(\u001b[38;5;124m'\u001b[39m\u001b[38;5;124mSchoolMotivation\u001b[39m\u001b[38;5;124m'\u001b[39m)[{\u001b[38;5;124m'\u001b[39m\u001b[38;5;124mAcademicPerformance\u001b[39m\u001b[38;5;124m'\u001b[39m: \u001b[38;5;241m0\u001b[39m, \u001b[38;5;124m'\u001b[39m\u001b[38;5;124mAttendance\u001b[39m\u001b[38;5;124m'\u001b[39m: \u001b[38;5;241m0\u001b[39m}] \u001b[38;5;241m=\u001b[39m [\u001b[38;5;241m1\u001b[39m, \u001b[38;5;241m0\u001b[39m, \u001b[38;5;241m0\u001b[39m]\n",
      "File \u001b[0;32m~/.local/lib/python3.10/site-packages/pyAgrum/pyAgrum.py:8351\u001b[0m, in \u001b[0;36mPotential.fillWith\u001b[0;34m(self, *args)\u001b[0m\n\u001b[1;32m   8347\u001b[0m     \u001b[39melse\u001b[39;00m:\n\u001b[1;32m   8348\u001b[0m       \u001b[39mraise\u001b[39;00m pyAgrum\u001b[39m.\u001b[39mArgumentError(\u001b[39mf\u001b[39m\u001b[39m\"\u001b[39m\u001b[39m[pyAgrum] keys in dict \u001b[39m\u001b[39m{\u001b[39;00m\u001b[39mtuple\u001b[39m(d\u001b[39m.\u001b[39mkeys())\u001b[39m}\u001b[39;00m\u001b[39m does not match the Potential\u001b[39m\u001b[39m'\u001b[39m\u001b[39ms variables \u001b[39m\u001b[39m{\u001b[39;00m\u001b[39mself\u001b[39m\u001b[39m.\u001b[39mnames\u001b[39m}\u001b[39;00m\u001b[39m\"\u001b[39m)\n\u001b[0;32m-> 8351\u001b[0m val \u001b[39m=\u001b[39m _pyAgrum\u001b[39m.\u001b[39;49mPotential_fillWith(\u001b[39mself\u001b[39;49m, \u001b[39m*\u001b[39;49margs)\n\u001b[1;32m   8353\u001b[0m \u001b[39mreturn\u001b[39;00m \u001b[39mself\u001b[39m\n\u001b[1;32m   8356\u001b[0m \u001b[39mreturn\u001b[39;00m val\n",
      "\u001b[0;31mSizeError\u001b[0m: [pyAgrum] incorrect size: Sizes do not match : 6!=3"
     ]
    }
   ],
   "source": [
    "# Define the conditional probability tables \n",
    "# I think we get this from data \n",
    "\n",
    "bn.cpt('Attendance').fillWith([0.1,0.9])\n",
    "\n",
    "bn.cpt('AcademicPerformance').fillWith([0.2,0.65,0.15])\n",
    "\n",
    "bn.cpt('GovernmentSupport').fillWith([0.92,0.08])\n",
    "\n",
    "bn.cpt('FinancialSupport').fillWith([0.5,0.35,0.15])\n",
    "\n",
    "bn.cpt('FamilySupport').fillWith([0.33,0.67])\n",
    "\n",
    "bn.cpt('SchoolMotivation')[{'AcademicPerformance': 0, 'Attendance': 0}] = [1, 0, 0]\n",
    "bn.cpt('SchoolMotivation')[{'AcademicPerformance': 0, 'Attendance': 1}] = [0.6, 0.15, 0.25]\n",
    "bn.cpt('SchoolMotivation')[{'AcademicPerformance': 1, 'Attendance': 0}] = [0.4, 0.5, 0.1]\n",
    "bn.cpt('SchoolMotivation')[{'AcademicPerformance': 1, 'Attendance': 1}] = [0.2, 0.525, 0.275]\n",
    "bn.cpt('SchoolMotivation')[{'AcademicPerformance': 2, 'Attendance': 0}] = [0.1, 0.675, 0.225]\n",
    "bn.cpt('SchoolMotivation')[{'AcademicPerformance': 2, 'Attendance': 1}] = [0.05, 0.8, 0.15]\n",
    "\n",
    "# Need to change probabilities !\n",
    "bn.cpt('LikelihoodOfDropout')[{'FamilySupport': 0, 'FinancialSupport': 0, 'SchoolMotivation': 0}] = [0.64, 0.36, 0.0]\n",
    "bn.cpt('LikelihoodOfDropout')[{'FamilySupport': 0, 'FinancialSupport': 0, 'SchoolMotivation': 1}] = [0.69, 0.31, 0.0]\n",
    "bn.cpt('LikelihoodOfDropout')[{'FamilySupport': 0, 'FinancialSupport': 0, 'SchoolMotivation': 2}] = [0.7, 0.3, 0.0]\n",
    "bn.cpt('LikelihoodOfDropout')[{'FamilySupport': 0, 'FinancialSupport': 1, 'SchoolMotivation': 0}] = [0.22, 0.78, 0.0]\n",
    "bn.cpt('LikelihoodOfDropout')[{'FamilySupport': 0, 'FinancialSupport': 1, 'SchoolMotivation': 1}] = [0.0, 1.0, 0.0]\n",
    "bn.cpt('LikelihoodOfDropout')[{'FamilySupport': 0, 'FinancialSupport': 1, 'SchoolMotivation': 2}] = [0.23, 0.77, 0.0]\n",
    "bn.cpt('LikelihoodOfDropout')[{'FamilySupport': 0, 'FinancialSupport': 2, 'SchoolMotivation': 0}] = [0.0, 0.98, 0.02]\n",
    "bn.cpt('LikelihoodOfDropout')[{'FamilySupport': 0, 'FinancialSupport': 2, 'SchoolMotivation': 1}] = [0.0, 0.64, 0.36]\n",
    "bn.cpt('LikelihoodOfDropout')[{'FamilySupport': 0, 'FinancialSupport': 2, 'SchoolMotivation': 2}] = [0.0, 1.0, 0.0]\n",
    "bn.cpt('LikelihoodOfDropout')[{'FamilySupport': 1, 'FinancialSupport': 0, 'SchoolMotivation': 0}] = [1.0, 0.0, 0.0]\n",
    "bn.cpt('LikelihoodOfDropout')[{'FamilySupport': 1, 'FinancialSupport': 0, 'SchoolMotivation': 1}] = [1.0, 0.0, 0.0]\n",
    "bn.cpt('LikelihoodOfDropout')[{'FamilySupport': 1, 'FinancialSupport': 0, 'SchoolMotivation': 2}] = [1.0, 0.0, 0.0]\n",
    "bn.cpt('LikelihoodOfDropout')[{'FamilySupport': 1, 'FinancialSupport': 1, 'SchoolMotivation': 0}] = [0.74, 0.26, 0.0]\n",
    "bn.cpt('LikelihoodOfDropout')[{'FamilySupport': 1, 'FinancialSupport': 1, 'SchoolMotivation': 1}] = [0.83, 0.17, 0.0]\n",
    "bn.cpt('LikelihoodOfDropout')[{'FamilySupport': 1, 'FinancialSupport': 1, 'SchoolMotivation': 2}] = [0.85, 0.15, 0.0]\n",
    "bn.cpt('LikelihoodOfDropout')[{'FamilySupport': 1, 'FinancialSupport': 2, 'SchoolMotivation': 0}] = [0.31, 0.69, 0.0]\n",
    "bn.cpt('LikelihoodOfDropout')[{'FamilySupport': 1, 'FinancialSupport': 2, 'SchoolMotivation': 1}] = [0.34, 0.66, 0.0]\n",
    "bn.cpt('LikelihoodOfDropout')[{'FamilySupport': 1, 'FinancialSupport': 2, 'SchoolMotivation': 2}] = [0.35, 0.65, 0.0]\n",
    "\n",
    "\n"
   ]
  },
  {
   "cell_type": "code",
   "execution_count": null,
   "metadata": {},
   "outputs": [
    {
     "data": {
      "text/html": [
       "<svg xmlns=\"http://www.w3.org/2000/svg\" xmlns:xlink=\"http://www.w3.org/1999/xlink\" width=\"360pt\" height=\"82pt\" viewBox=\"0.00 0.00 360.00 81.53\">\n",
       "<g id=\"graph0\" class=\"graph\" transform=\"scale(2.31 2.31) rotate(0) translate(4 184)\">\n",
       "<title>G</title>\n",
       "<!-- Attendance -->\n",
       "<g id=\"node1\" class=\"node\">\n",
       "<title>Attendance</title>\n",
       "<g id=\"a_node1\"><a xlink:title=\"(2) Attendance\">\n",
       "<ellipse fill=\"#404040\" stroke=\"black\" cx=\"63.69\" cy=\"-162\" rx=\"63.89\" ry=\"18\"/>\n",
       "<text text-anchor=\"middle\" x=\"63.69\" y=\"-158.3\" font-family=\"Times,serif\" font-size=\"14.00\" fill=\"white\">Attendance</text>\n",
       "</a>\n",
       "</g>\n",
       "</g>\n",
       "<!-- SchoolMotivation -->\n",
       "<g id=\"node3\" class=\"node\">\n",
       "<title>SchoolMotivation</title>\n",
       "<g id=\"a_node3\"><a xlink:title=\"(0) SchoolMotivation\">\n",
       "<ellipse fill=\"#404040\" stroke=\"black\" cx=\"189.69\" cy=\"-90\" rx=\"91.78\" ry=\"18\"/>\n",
       "<text text-anchor=\"middle\" x=\"189.69\" y=\"-86.3\" font-family=\"Times,serif\" font-size=\"14.00\" fill=\"white\">SchoolMotivation</text>\n",
       "</a>\n",
       "</g>\n",
       "</g>\n",
       "<!-- Attendance&#45;&gt;SchoolMotivation -->\n",
       "<g id=\"edge4\" class=\"edge\">\n",
       "<title>Attendance-&gt;SchoolMotivation</title>\n",
       "<g id=\"a_edge4\"><a xlink:title=\"2 → 0\">\n",
       "<path fill=\"none\" stroke=\"#4a4a4a\" d=\"M91.35,-145.64C108.98,-135.84 132.08,-123.01 151.46,-112.24\"/>\n",
       "<polygon fill=\"#4a4a4a\" stroke=\"#4a4a4a\" points=\"153.31,-115.22 160.35,-107.3 149.91,-109.1 153.31,-115.22\"/>\n",
       "</a>\n",
       "</g>\n",
       "</g>\n",
       "<!-- FamilySupport -->\n",
       "<g id=\"node2\" class=\"node\">\n",
       "<title>FamilySupport</title>\n",
       "<g id=\"a_node2\"><a xlink:title=\"(3) FamilySupport\">\n",
       "<ellipse fill=\"#404040\" stroke=\"black\" cx=\"378.69\" cy=\"-90\" rx=\"79.09\" ry=\"18\"/>\n",
       "<text text-anchor=\"middle\" x=\"378.69\" y=\"-86.3\" font-family=\"Times,serif\" font-size=\"14.00\" fill=\"white\">FamilySupport</text>\n",
       "</a>\n",
       "</g>\n",
       "</g>\n",
       "<!-- LikelihoodOfDropout -->\n",
       "<g id=\"node8\" class=\"node\">\n",
       "<title>LikelihoodOfDropout</title>\n",
       "<g id=\"a_node8\"><a xlink:title=\"(7) LikelihoodOfDropout\">\n",
       "<ellipse fill=\"#404040\" stroke=\"black\" cx=\"472.69\" cy=\"-18\" rx=\"107.48\" ry=\"18\"/>\n",
       "<text text-anchor=\"middle\" x=\"472.69\" y=\"-14.3\" font-family=\"Times,serif\" font-size=\"14.00\" fill=\"white\">LikelihoodOfDropout</text>\n",
       "</a>\n",
       "</g>\n",
       "</g>\n",
       "<!-- FamilySupport&#45;&gt;LikelihoodOfDropout -->\n",
       "<g id=\"edge2\" class=\"edge\">\n",
       "<title>FamilySupport-&gt;LikelihoodOfDropout</title>\n",
       "<g id=\"a_edge2\"><a xlink:title=\"3 → 7\">\n",
       "<path fill=\"none\" stroke=\"#4a4a4a\" d=\"M400.97,-72.41C413.29,-63.24 428.78,-51.7 442.2,-41.71\"/>\n",
       "<polygon fill=\"#4a4a4a\" stroke=\"#4a4a4a\" points=\"444.32,-44.49 450.25,-35.71 440.14,-38.88 444.32,-44.49\"/>\n",
       "</a>\n",
       "</g>\n",
       "</g>\n",
       "<!-- SchoolMotivation&#45;&gt;LikelihoodOfDropout -->\n",
       "<g id=\"edge1\" class=\"edge\">\n",
       "<title>SchoolMotivation-&gt;LikelihoodOfDropout</title>\n",
       "<g id=\"a_edge1\"><a xlink:title=\"0 → 7\">\n",
       "<path fill=\"none\" stroke=\"#4a4a4a\" d=\"M244.26,-75.5C290.09,-64.17 355.79,-47.92 404.97,-35.75\"/>\n",
       "<polygon fill=\"#4a4a4a\" stroke=\"#4a4a4a\" points=\"406.02,-39.1 414.89,-33.3 404.34,-32.3 406.02,-39.1\"/>\n",
       "</a>\n",
       "</g>\n",
       "</g>\n",
       "<!-- FinancialSupport -->\n",
       "<g id=\"node4\" class=\"node\">\n",
       "<title>FinancialSupport</title>\n",
       "<g id=\"a_node4\"><a xlink:title=\"(4) FinancialSupport\">\n",
       "<ellipse fill=\"#404040\" stroke=\"black\" cx=\"566.69\" cy=\"-90\" rx=\"90.98\" ry=\"18\"/>\n",
       "<text text-anchor=\"middle\" x=\"566.69\" y=\"-86.3\" font-family=\"Times,serif\" font-size=\"14.00\" fill=\"white\">FinancialSupport</text>\n",
       "</a>\n",
       "</g>\n",
       "</g>\n",
       "<!-- FinancialSupport&#45;&gt;LikelihoodOfDropout -->\n",
       "<g id=\"edge7\" class=\"edge\">\n",
       "<title>FinancialSupport-&gt;LikelihoodOfDropout</title>\n",
       "<g id=\"a_edge7\"><a xlink:title=\"4 → 7\">\n",
       "<path fill=\"none\" stroke=\"#4a4a4a\" d=\"M544.42,-72.41C532.1,-63.24 516.61,-51.7 503.18,-41.71\"/>\n",
       "<polygon fill=\"#4a4a4a\" stroke=\"#4a4a4a\" points=\"505.25,-38.88 495.14,-35.71 501.07,-44.49 505.25,-38.88\"/>\n",
       "</a>\n",
       "</g>\n",
       "</g>\n",
       "<!-- AcademicPerformance -->\n",
       "<g id=\"node5\" class=\"node\">\n",
       "<title>AcademicPerformance</title>\n",
       "<g id=\"a_node5\"><a xlink:title=\"(1) AcademicPerformance\">\n",
       "<ellipse fill=\"#404040\" stroke=\"black\" cx=\"259.69\" cy=\"-162\" rx=\"114.28\" ry=\"18\"/>\n",
       "<text text-anchor=\"middle\" x=\"259.69\" y=\"-158.3\" font-family=\"Times,serif\" font-size=\"14.00\" fill=\"white\">AcademicPerformance</text>\n",
       "</a>\n",
       "</g>\n",
       "</g>\n",
       "<!-- AcademicPerformance&#45;&gt;SchoolMotivation -->\n",
       "<g id=\"edge6\" class=\"edge\">\n",
       "<title>AcademicPerformance-&gt;SchoolMotivation</title>\n",
       "<g id=\"a_edge6\"><a xlink:title=\"1 → 0\">\n",
       "<path fill=\"none\" stroke=\"#4a4a4a\" d=\"M242.75,-144.05C234.07,-135.37 223.34,-124.64 213.81,-115.11\"/>\n",
       "<polygon fill=\"#4a4a4a\" stroke=\"#4a4a4a\" points=\"216.03,-112.39 206.48,-107.79 211.08,-117.33 216.03,-112.39\"/>\n",
       "</a>\n",
       "</g>\n",
       "</g>\n",
       "<!-- GovernmentSupport -->\n",
       "<g id=\"node6\" class=\"node\">\n",
       "<title>GovernmentSupport</title>\n",
       "<g id=\"a_node6\"><a xlink:title=\"(5) GovernmentSupport\">\n",
       "<ellipse fill=\"#404040\" stroke=\"black\" cx=\"566.69\" cy=\"-162\" rx=\"105.88\" ry=\"18\"/>\n",
       "<text text-anchor=\"middle\" x=\"566.69\" y=\"-158.3\" font-family=\"Times,serif\" font-size=\"14.00\" fill=\"white\">GovernmentSupport</text>\n",
       "</a>\n",
       "</g>\n",
       "</g>\n",
       "<!-- GovernmentSupport&#45;&gt;FinancialSupport -->\n",
       "<g id=\"edge3\" class=\"edge\">\n",
       "<title>GovernmentSupport-&gt;FinancialSupport</title>\n",
       "<g id=\"a_edge3\"><a xlink:title=\"5 → 4\">\n",
       "<path fill=\"none\" stroke=\"#4a4a4a\" d=\"M566.69,-143.7C566.69,-135.98 566.69,-126.71 566.69,-118.11\"/>\n",
       "<polygon fill=\"#4a4a4a\" stroke=\"#4a4a4a\" points=\"570.19,-118.1 566.69,-108.1 563.19,-118.1 570.19,-118.1\"/>\n",
       "</a>\n",
       "</g>\n",
       "</g>\n",
       "<!-- SocialFactors -->\n",
       "<g id=\"node7\" class=\"node\">\n",
       "<title>SocialFactors</title>\n",
       "<g id=\"a_node7\"><a xlink:title=\"(6) SocialFactors\">\n",
       "<ellipse fill=\"#404040\" stroke=\"black\" cx=\"748.69\" cy=\"-90\" rx=\"73.39\" ry=\"18\"/>\n",
       "<text text-anchor=\"middle\" x=\"748.69\" y=\"-86.3\" font-family=\"Times,serif\" font-size=\"14.00\" fill=\"white\">SocialFactors</text>\n",
       "</a>\n",
       "</g>\n",
       "</g>\n",
       "<!-- SocialFactors&#45;&gt;LikelihoodOfDropout -->\n",
       "<g id=\"edge5\" class=\"edge\">\n",
       "<title>SocialFactors-&gt;LikelihoodOfDropout</title>\n",
       "<g id=\"a_edge5\"><a xlink:title=\"6 → 7\">\n",
       "<path fill=\"none\" stroke=\"#4a4a4a\" d=\"M699.67,-76.57C655.03,-65.25 588.75,-48.43 539.32,-35.9\"/>\n",
       "<polygon fill=\"#4a4a4a\" stroke=\"#4a4a4a\" points=\"539.91,-32.44 529.36,-33.37 538.19,-39.22 539.91,-32.44\"/>\n",
       "</a>\n",
       "</g>\n",
       "</g>\n",
       "</g>\n",
       "</svg>"
      ],
      "text/plain": [
       "(pyAgrum.BayesNet<double>@0x561be73e5a30) BN{nodes: 8, arcs: 7, domainSize: 1944, dim: 131, mem: 1Ko 560o}"
      ]
     },
     "execution_count": 27,
     "metadata": {},
     "output_type": "execute_result"
    }
   ],
   "source": [
    "# Showing the BN\n",
    "bn"
   ]
  },
  {
   "cell_type": "code",
   "execution_count": null,
   "metadata": {},
   "outputs": [
    {
     "ename": "Exception",
     "evalue": "[pyAgrum] Several evidence/CPT are incompatible together (proba=0): some evidence entered into the Bayes net are incompatible (their joint proba = 0)",
     "output_type": "error",
     "traceback": [
      "\u001b[0;31m---------------------------------------------------------------------------\u001b[0m",
      "\u001b[0;31mException\u001b[0m                                 Traceback (most recent call last)",
      "Cell \u001b[0;32mIn[28], line 4\u001b[0m\n\u001b[1;32m      1\u001b[0m \u001b[38;5;66;03m# Compute the posterior probability of the likelihood of dropout - inference\u001b[39;00m\n\u001b[1;32m      2\u001b[0m \u001b[38;5;66;03m# ie.makeInference()\u001b[39;00m\n\u001b[1;32m      3\u001b[0m ie \u001b[38;5;241m=\u001b[39m gum\u001b[38;5;241m.\u001b[39mVariableElimination(bn)\n\u001b[0;32m----> 4\u001b[0m \u001b[43mgnb\u001b[49m\u001b[38;5;241;43m.\u001b[39;49m\u001b[43mshowInference\u001b[49m\u001b[43m(\u001b[49m\u001b[43mbn\u001b[49m\u001b[43m,\u001b[49m\u001b[43m \u001b[49m\u001b[43mevs\u001b[49m\u001b[38;5;241;43m=\u001b[39;49m\u001b[43m{\u001b[49m\u001b[43m}\u001b[49m\u001b[43m,\u001b[49m\u001b[43m \u001b[49m\u001b[43mengine\u001b[49m\u001b[38;5;241;43m=\u001b[39;49m\u001b[43mie\u001b[49m\u001b[43m)\u001b[49m\n\u001b[1;32m      7\u001b[0m \u001b[38;5;66;03m# Compile the Bayesian network \u001b[39;00m\n\u001b[1;32m      8\u001b[0m ie \u001b[38;5;241m=\u001b[39m gum\u001b[38;5;241m.\u001b[39mLazyPropagation(bn)\n",
      "File \u001b[0;32m~/.local/lib/python3.10/site-packages/pyAgrum/lib/notebook.py:1008\u001b[0m, in \u001b[0;36mshowInference\u001b[0;34m(model, **kwargs)\u001b[0m\n\u001b[1;32m   1005\u001b[0m \u001b[39melse\u001b[39;00m:\n\u001b[1;32m   1006\u001b[0m   size \u001b[39m=\u001b[39m gum\u001b[39m.\u001b[39mconfig[\u001b[39m\"\u001b[39m\u001b[39mnotebook\u001b[39m\u001b[39m\"\u001b[39m, \u001b[39m\"\u001b[39m\u001b[39mdefault_graph_inference_size\u001b[39m\u001b[39m\"\u001b[39m]\n\u001b[0;32m-> 1008\u001b[0m showGraph(prepareShowInference(model, \u001b[39m*\u001b[39;49m\u001b[39m*\u001b[39;49mkwargs), size)\n",
      "File \u001b[0;32m~/.local/lib/python3.10/site-packages/pyAgrum/lib/image.py:159\u001b[0m, in \u001b[0;36mprepareShowInference\u001b[0;34m(model, engine, evs, targets, size, nodeColor, factorColor, arcWidth, arcColor, cmap, cmapArc, graph, view)\u001b[0m\n\u001b[1;32m    157\u001b[0m   \u001b[39mif\u001b[39;00m engine \u001b[39mis\u001b[39;00m \u001b[39mNone\u001b[39;00m:\n\u001b[1;32m    158\u001b[0m     engine \u001b[39m=\u001b[39m gum\u001b[39m.\u001b[39mLazyPropagation(model)\n\u001b[0;32m--> 159\u001b[0m   \u001b[39mreturn\u001b[39;00m BNinference2dot(model, size\u001b[39m=\u001b[39;49msize, engine\u001b[39m=\u001b[39;49mengine, evs\u001b[39m=\u001b[39;49mevs, targets\u001b[39m=\u001b[39;49mtargets, nodeColor\u001b[39m=\u001b[39;49mnodeColor,\n\u001b[1;32m    160\u001b[0m                          arcWidth\u001b[39m=\u001b[39;49marcWidth,\n\u001b[1;32m    161\u001b[0m                          arcColor\u001b[39m=\u001b[39;49marcColor,\n\u001b[1;32m    162\u001b[0m                          cmapNode\u001b[39m=\u001b[39;49mcmap, cmapArc\u001b[39m=\u001b[39;49mcmapArc\n\u001b[1;32m    163\u001b[0m                          )\n\u001b[1;32m    164\u001b[0m \u001b[39mif\u001b[39;00m \u001b[39misinstance\u001b[39m(model, gum\u001b[39m.\u001b[39mMarkovRandomField):\n\u001b[1;32m    165\u001b[0m   \u001b[39mif\u001b[39;00m view \u001b[39mis\u001b[39;00m \u001b[39mNone\u001b[39;00m:\n",
      "File \u001b[0;32m~/.local/lib/python3.10/site-packages/pyAgrum/lib/bn2graph.py:243\u001b[0m, in \u001b[0;36mBNinference2dot\u001b[0;34m(bn, size, engine, evs, targets, nodeColor, arcWidth, arcColor, cmapNode, cmapArc, dag)\u001b[0m\n\u001b[1;32m    239\u001b[0m \u001b[39mif\u001b[39;00m \u001b[39mlen\u001b[39m(targets) \u001b[39m==\u001b[39m \u001b[39m0\u001b[39m \u001b[39mor\u001b[39;00m name \u001b[39min\u001b[39;00m targets \u001b[39mor\u001b[39;00m nid \u001b[39min\u001b[39;00m targets:\n\u001b[1;32m    240\u001b[0m   filename \u001b[39m=\u001b[39m temp_dir \u001b[39m+\u001b[39m \\\n\u001b[1;32m    241\u001b[0m              hashlib\u001b[39m.\u001b[39mmd5(name\u001b[39m.\u001b[39mencode())\u001b[39m.\u001b[39mhexdigest() \u001b[39m+\u001b[39m \u001b[39m\"\u001b[39m\u001b[39m.\u001b[39m\u001b[39m\"\u001b[39m \u001b[39m+\u001b[39m \\\n\u001b[1;32m    242\u001b[0m              gum\u001b[39m.\u001b[39mconfig[\u001b[39m\"\u001b[39m\u001b[39mnotebook\u001b[39m\u001b[39m\"\u001b[39m, \u001b[39m\"\u001b[39m\u001b[39mgraph_format\u001b[39m\u001b[39m\"\u001b[39m]\n\u001b[0;32m--> 243\u001b[0m   proba_histogram\u001b[39m.\u001b[39msaveFigProba(ie\u001b[39m.\u001b[39;49mposterior(name), filename, bgcolor\u001b[39m=\u001b[39mbgcol)\n\u001b[1;32m    244\u001b[0m   dotstr \u001b[39m+\u001b[39m\u001b[39m=\u001b[39m \u001b[39mf\u001b[39m\u001b[39m'\u001b[39m\u001b[39m \u001b[39m\u001b[39m\"\u001b[39m\u001b[39m{\u001b[39;00mname\u001b[39m}\u001b[39;00m\u001b[39m\"\u001b[39m\u001b[39m [shape=rectangle,image=\u001b[39m\u001b[39m\"\u001b[39m\u001b[39m{\u001b[39;00mfilename\u001b[39m}\u001b[39;00m\u001b[39m\"\u001b[39m\u001b[39m,label=\u001b[39m\u001b[39m\"\u001b[39m\u001b[39m\"\u001b[39m\u001b[39m, \u001b[39m\u001b[39m{\u001b[39;00mcolorattribute\u001b[39m}\u001b[39;00m\u001b[39m];\u001b[39m\u001b[39m\\n\u001b[39;00m\u001b[39m'\u001b[39m\n\u001b[1;32m    245\u001b[0m \u001b[39melse\u001b[39;00m:\n",
      "File \u001b[0;32m~/.local/lib/python3.10/site-packages/pyAgrum/pyAgrum.py:15573\u001b[0m, in \u001b[0;36mVariableElimination.posterior\u001b[0;34m(self, *args)\u001b[0m\n\u001b[1;32m  15550\u001b[0m \u001b[39mdef\u001b[39;00m \u001b[39mposterior\u001b[39m(\u001b[39mself\u001b[39m, \u001b[39m*\u001b[39margs) \u001b[39m-\u001b[39m\u001b[39m>\u001b[39m \u001b[39m\"\u001b[39m\u001b[39mpyAgrum.Potential\u001b[39m\u001b[39m\"\u001b[39m:\n\u001b[1;32m  15551\u001b[0m \u001b[39m    \u001b[39m\u001b[39mr\u001b[39m\u001b[39m\"\"\"\u001b[39;00m\n\u001b[1;32m  15552\u001b[0m \n\u001b[1;32m  15553\u001b[0m \u001b[39m    Computes and returns the posterior of a node.\u001b[39;00m\n\u001b[0;32m   (...)\u001b[0m\n\u001b[1;32m  15571\u001b[0m \n\u001b[1;32m  15572\u001b[0m \u001b[39m    \"\"\"\u001b[39;00m\n\u001b[0;32m> 15573\u001b[0m     \u001b[39mreturn\u001b[39;00m _pyAgrum\u001b[39m.\u001b[39;49mVariableElimination_posterior(\u001b[39mself\u001b[39;49m, \u001b[39m*\u001b[39;49margs)\n",
      "\u001b[0;31mException\u001b[0m: [pyAgrum] Several evidence/CPT are incompatible together (proba=0): some evidence entered into the Bayes net are incompatible (their joint proba = 0)"
     ]
    }
   ],
   "source": [
    "# Compute the posterior probability of the likelihood of dropout - inference\n",
    "# ie.makeInference()\n",
    "ie = gum.VariableElimination(bn)\n",
    "gnb.showInference(bn, evs={}, engine=ie)\n",
    "\n",
    "\n",
    "# Compile the Bayesian network \n",
    "#ie = gum.LazyPropagation(bn)\n",
    "\n",
    "\n",
    "# Set the evidence (observed nodes)\n",
    "#ie.setEvidence({'Academic Performance': 'low'})\n"
   ]
  }
 ],
 "metadata": {
  "kernelspec": {
   "display_name": "Python 3.10.6 64-bit",
   "language": "python",
   "name": "python3"
  },
  "language_info": {
   "codemirror_mode": {
    "name": "ipython",
    "version": 3
   },
   "file_extension": ".py",
   "mimetype": "text/x-python",
   "name": "python",
   "nbconvert_exporter": "python",
   "pygments_lexer": "ipython3",
   "version": "3.10.6"
  },
  "orig_nbformat": 4,
  "vscode": {
   "interpreter": {
    "hash": "916dbcbb3f70747c44a77c7bcd40155683ae19c65e1c03b4aa3499c5328201f1"
   }
  }
 },
 "nbformat": 4,
 "nbformat_minor": 2
}

{
 "cells": [
  {
   "cell_type": "code",
   "execution_count": 4,
   "metadata": {},
   "outputs": [
    {
     "name": "stdout",
     "output_type": "stream",
     "text": [
      "BN =  BN{nodes: 0, arcs: 0, domainSize: 1, dim: 0, mem: 0o}\n",
      "BN With vars :  BN{nodes: 5, arcs: 0, domainSize: 243, dim: 10, mem: 120o}\n"
     ]
    }
   ],
   "source": [
    "from pylab import *\n",
    "import matplotlib.pyplot as plt\n",
    "import os\n",
    "import pyAgrum as gum\n",
    "import pyAgrum.lib.ipython as gnb\n",
    "import pyAgrum.lib.notebook as gnbb\n",
    "\n",
    "bn=gum.BayesNet('DropOutPredictor')\n",
    "print(\"BN = \",bn)\n",
    "\n",
    "# Adding variables \n",
    "academic_performance=bn.add(gum.LabelizedVariable('Academic Performance','academic_performance', ['low', 'medium', 'high']))\n",
    "family_support=bn.add(gum.LabelizedVariable('Family Support', 'family_support', ['low', 'medium', 'high']))\n",
    "financial_support=bn.add(gum.LabelizedVariable('Financial Support', 'financial_support', ['low', 'medium', 'high']))\n",
    "social_support=bn.add(gum.LabelizedVariable('Social Support', 'social_support', ['low', 'medium', 'high']))\n",
    "likelihood_of_dropout=bn.add(gum.LabelizedVariable('Likelihood of Dropout', 'likelihood_of_dropout', ['low', 'medium', 'high']))\n",
    "\n",
    "print (\"BN With vars : \",bn)\n",
    "\n",
    "# Define the conditional probability tables \n",
    "# I think we get this from data \n",
    "\n",
    "\n",
    "# Add arcs between the nodes\n",
    "bn.addArc(academic_performance, likelihood_of_dropout)\n",
    "bn.addArc(family_support, likelihood_of_dropout)\n",
    "bn.addArc(financial_support, likelihood_of_dropout)\n",
    "bn.addArc(social_support, likelihood_of_dropout)\n",
    "\n",
    "\n",
    "# Compile the Bayesian network \n",
    "ie = gum.LazyPropagation(bn)\n",
    "\n",
    "\n",
    "\n",
    "# Set the evidence (observed nodes)\n",
    "ie.setEvidence({'Academic Performance': 'low'})\n",
    "\n",
    "\n",
    "# Compute the posterior probability of the likelihood of dropout - inference\n",
    "# ie.makeInference()\n",
    "# posterior = ie.posterior(likelihood_of_dropout)\n",
    "# print(posterior)\n"
   ]
  }
 ],
 "metadata": {
  "kernelspec": {
   "display_name": "Python 3",
   "language": "python",
   "name": "python3"
  },
  "language_info": {
   "codemirror_mode": {
    "name": "ipython",
    "version": 3
   },
   "file_extension": ".py",
   "mimetype": "text/x-python",
   "name": "python",
   "nbconvert_exporter": "python",
   "pygments_lexer": "ipython3",
   "version": "3.9.6"
  },
  "orig_nbformat": 4
 },
 "nbformat": 4,
 "nbformat_minor": 2
}

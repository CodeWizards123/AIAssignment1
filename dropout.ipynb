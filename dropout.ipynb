{
 "cells": [
  {
   "cell_type": "code",
   "execution_count": 27,
   "metadata": {},
   "outputs": [],
   "source": [
    "import pyAgrum as gum\n",
    "import pyAgrum.lib.notebook as gnb"
   ]
  },
  {
   "cell_type": "code",
   "execution_count": 28,
   "metadata": {},
   "outputs": [
    {
     "name": "stdout",
     "output_type": "stream",
     "text": [
      "BN =  BN{nodes: 0, arcs: 0, domainSize: 1, dim: 0, mem: 0o}\n"
     ]
    }
   ],
   "source": [
    "bn=gum.BayesNet('DropOutPredictor')\n",
    "print(\"BN = \",bn)"
   ]
  },
  {
   "cell_type": "code",
   "execution_count": 29,
   "metadata": {},
   "outputs": [
    {
     "name": "stdout",
     "output_type": "stream",
     "text": [
      "BN With vars :  BN{nodes: 8, arcs: 0, domainSize: 1944, dim: 13, mem: 168o}\n"
     ]
    }
   ],
   "source": [
    "# Adding variables \n",
    "school_motivation=bn.add(gum.LabelizedVariable('SchoolMotivation','schoolmotivation', ['low', 'medium', 'high']))\n",
    "academic_performance=bn.add(gum.LabelizedVariable('AcademicPerformance','academic_performance', ['low', 'medium', 'high']))\n",
    "attendance=bn.add(gum.LabelizedVariable('Attendance','attendance', ['low', 'high']))\n",
    "family_support=bn.add(gum.LabelizedVariable('FamilySupport', 'family_support', ['no', 'yes']))\n",
    "financial_support=bn.add(gum.LabelizedVariable('FinancialSupport', 'financial_support', ['low', 'medium', 'high']))\n",
    "government_support=bn.add(gum.LabelizedVariable('GovernmentSupport', 'government_support', ['no', 'yes']))\n",
    "social_support=bn.add(gum.LabelizedVariable('SocialFactors', 'social_support', ['negative', 'neutral', 'positive']))\n",
    "likelihood_of_dropout=bn.add(gum.LabelizedVariable('LikelihoodOfDropout', 'likelihood_of_dropout', ['low', 'medium', 'high']))\n",
    "\n",
    "print (\"BN With vars : \",bn)\n"
   ]
  },
  {
   "cell_type": "code",
   "execution_count": 30,
   "metadata": {},
   "outputs": [],
   "source": [
    "# Addding arcs between the nodes\n",
    "arcs = [(school_motivation, likelihood_of_dropout),(academic_performance, school_motivation), (attendance, school_motivation), (family_support, likelihood_of_dropout), (financial_support, likelihood_of_dropout), (government_support, financial_support),(social_support, likelihood_of_dropout)]\n",
    "for arc in arcs:\n",
    "    bn.addArc(*arc)"
   ]
  },
  {
   "cell_type": "code",
   "execution_count": 31,
   "metadata": {},
   "outputs": [],
   "source": [
    "# Define the conditional probability tables \n",
    "# I think we get this from data \n",
    "\n",
    "bn.cpt('Attendance').fillWith([0.1,0.9])\n",
    "\n",
    "bn.cpt('AcademicPerformance').fillWith([0.2,0.65,0.15])\n",
    "\n",
    "bn.cpt('GovernmentSupport').fillWith([0.92,0.08])\n",
    "\n",
    "bn.cpt('FamilySupport').fillWith([0.33,0.67])\n",
    "\n",
    "bn.cpt('SocialFactors').fillWith([0.33,0.33,0.33])\n",
    "\n",
    "bn.cpt('SchoolMotivation')[{'AcademicPerformance': 0, 'Attendance': 0}] = [1, 0, 0]\n",
    "bn.cpt('SchoolMotivation')[{'AcademicPerformance': 0, 'Attendance': 1}] = [0.6, 0.15, 0.25]\n",
    "bn.cpt('SchoolMotivation')[{'AcademicPerformance': 1, 'Attendance': 0}] = [0.4, 0.5, 0.1]\n",
    "bn.cpt('SchoolMotivation')[{'AcademicPerformance': 1, 'Attendance': 1}] = [0.2, 0.525, 0.275]\n",
    "bn.cpt('SchoolMotivation')[{'AcademicPerformance': 2, 'Attendance': 0}] = [0.1, 0.675, 0.225]\n",
    "bn.cpt('SchoolMotivation')[{'AcademicPerformance': 2, 'Attendance': 1}] = [0.05, 0.8, 0.15]"
   ]
  },
  {
   "cell_type": "code",
   "execution_count": 32,
   "metadata": {},
   "outputs": [
    {
     "data": {
      "text/html": [
       "<svg xmlns=\"http://www.w3.org/2000/svg\" xmlns:xlink=\"http://www.w3.org/1999/xlink\" width=\"360pt\" height=\"83pt\" viewBox=\"0.00 0.00 360.00 82.78\">\n",
       "<g id=\"graph0\" class=\"graph\" transform=\"scale(2.27 2.27) rotate(0) translate(4 184)\">\n",
       "<title>G</title>\n",
       "<!-- FinancialSupport -->\n",
       "<g id=\"node1\" class=\"node\">\n",
       "<title>FinancialSupport</title>\n",
       "<g id=\"a_node1\"><a xlink:title=\"(4) FinancialSupport\">\n",
       "<ellipse fill=\"#404040\" stroke=\"black\" cx=\"703.69\" cy=\"-90\" rx=\"90.98\" ry=\"18\"/>\n",
       "<text text-anchor=\"middle\" x=\"703.69\" y=\"-86.3\" font-family=\"Times,serif\" font-size=\"14.00\" fill=\"white\">FinancialSupport</text>\n",
       "</a>\n",
       "</g>\n",
       "</g>\n",
       "<!-- LikelihoodOfDropout -->\n",
       "<g id=\"node7\" class=\"node\">\n",
       "<title>LikelihoodOfDropout</title>\n",
       "<g id=\"a_node7\"><a xlink:title=\"(7) LikelihoodOfDropout\">\n",
       "<ellipse fill=\"#404040\" stroke=\"black\" cx=\"429.69\" cy=\"-18\" rx=\"107.48\" ry=\"18\"/>\n",
       "<text text-anchor=\"middle\" x=\"429.69\" y=\"-14.3\" font-family=\"Times,serif\" font-size=\"14.00\" fill=\"white\">LikelihoodOfDropout</text>\n",
       "</a>\n",
       "</g>\n",
       "</g>\n",
       "<!-- FinancialSupport&#45;&gt;LikelihoodOfDropout -->\n",
       "<g id=\"edge7\" class=\"edge\">\n",
       "<title>FinancialSupport-&gt;LikelihoodOfDropout</title>\n",
       "<g id=\"a_edge7\"><a xlink:title=\"4 → 7\">\n",
       "<path fill=\"none\" stroke=\"#4a4a4a\" d=\"M650.21,-75.34C606.01,-64.04 543.06,-47.96 495.72,-35.87\"/>\n",
       "<polygon fill=\"#4a4a4a\" stroke=\"#4a4a4a\" points=\"496.42,-32.43 485.87,-33.35 494.69,-39.22 496.42,-32.43\"/>\n",
       "</a>\n",
       "</g>\n",
       "</g>\n",
       "<!-- Attendance -->\n",
       "<g id=\"node2\" class=\"node\">\n",
       "<title>Attendance</title>\n",
       "<g id=\"a_node2\"><a xlink:title=\"(2) Attendance\">\n",
       "<ellipse fill=\"#404040\" stroke=\"black\" cx=\"63.69\" cy=\"-162\" rx=\"63.89\" ry=\"18\"/>\n",
       "<text text-anchor=\"middle\" x=\"63.69\" y=\"-158.3\" font-family=\"Times,serif\" font-size=\"14.00\" fill=\"white\">Attendance</text>\n",
       "</a>\n",
       "</g>\n",
       "</g>\n",
       "<!-- SchoolMotivation -->\n",
       "<g id=\"node5\" class=\"node\">\n",
       "<title>SchoolMotivation</title>\n",
       "<g id=\"a_node5\"><a xlink:title=\"(0) SchoolMotivation\">\n",
       "<ellipse fill=\"#404040\" stroke=\"black\" cx=\"161.69\" cy=\"-90\" rx=\"91.78\" ry=\"18\"/>\n",
       "<text text-anchor=\"middle\" x=\"161.69\" y=\"-86.3\" font-family=\"Times,serif\" font-size=\"14.00\" fill=\"white\">SchoolMotivation</text>\n",
       "</a>\n",
       "</g>\n",
       "</g>\n",
       "<!-- Attendance&#45;&gt;SchoolMotivation -->\n",
       "<g id=\"edge4\" class=\"edge\">\n",
       "<title>Attendance-&gt;SchoolMotivation</title>\n",
       "<g id=\"a_edge4\"><a xlink:title=\"2 → 0\">\n",
       "<path fill=\"none\" stroke=\"#4a4a4a\" d=\"M85.93,-145.12C99.06,-135.74 115.87,-123.73 130.33,-113.4\"/>\n",
       "<polygon fill=\"#4a4a4a\" stroke=\"#4a4a4a\" points=\"132.42,-116.21 138.52,-107.55 128.35,-110.52 132.42,-116.21\"/>\n",
       "</a>\n",
       "</g>\n",
       "</g>\n",
       "<!-- GovernmentSupport -->\n",
       "<g id=\"node3\" class=\"node\">\n",
       "<title>GovernmentSupport</title>\n",
       "<g id=\"a_node3\"><a xlink:title=\"(5) GovernmentSupport\">\n",
       "<ellipse fill=\"#404040\" stroke=\"black\" cx=\"703.69\" cy=\"-162\" rx=\"105.88\" ry=\"18\"/>\n",
       "<text text-anchor=\"middle\" x=\"703.69\" y=\"-158.3\" font-family=\"Times,serif\" font-size=\"14.00\" fill=\"white\">GovernmentSupport</text>\n",
       "</a>\n",
       "</g>\n",
       "</g>\n",
       "<!-- GovernmentSupport&#45;&gt;FinancialSupport -->\n",
       "<g id=\"edge3\" class=\"edge\">\n",
       "<title>GovernmentSupport-&gt;FinancialSupport</title>\n",
       "<g id=\"a_edge3\"><a xlink:title=\"5 → 4\">\n",
       "<path fill=\"none\" stroke=\"#4a4a4a\" d=\"M703.69,-143.7C703.69,-135.98 703.69,-126.71 703.69,-118.11\"/>\n",
       "<polygon fill=\"#4a4a4a\" stroke=\"#4a4a4a\" points=\"707.19,-118.1 703.69,-108.1 700.19,-118.1 707.19,-118.1\"/>\n",
       "</a>\n",
       "</g>\n",
       "</g>\n",
       "<!-- AcademicPerformance -->\n",
       "<g id=\"node4\" class=\"node\">\n",
       "<title>AcademicPerformance</title>\n",
       "<g id=\"a_node4\"><a xlink:title=\"(1) AcademicPerformance\">\n",
       "<ellipse fill=\"#404040\" stroke=\"black\" cx=\"259.69\" cy=\"-162\" rx=\"114.28\" ry=\"18\"/>\n",
       "<text text-anchor=\"middle\" x=\"259.69\" y=\"-158.3\" font-family=\"Times,serif\" font-size=\"14.00\" fill=\"white\">AcademicPerformance</text>\n",
       "</a>\n",
       "</g>\n",
       "</g>\n",
       "<!-- AcademicPerformance&#45;&gt;SchoolMotivation -->\n",
       "<g id=\"edge6\" class=\"edge\">\n",
       "<title>AcademicPerformance-&gt;SchoolMotivation</title>\n",
       "<g id=\"a_edge6\"><a xlink:title=\"1 → 0\">\n",
       "<path fill=\"none\" stroke=\"#4a4a4a\" d=\"M235.97,-144.05C223.12,-134.87 207.07,-123.41 193.18,-113.49\"/>\n",
       "<polygon fill=\"#4a4a4a\" stroke=\"#4a4a4a\" points=\"195.03,-110.51 184.86,-107.55 190.96,-116.21 195.03,-110.51\"/>\n",
       "</a>\n",
       "</g>\n",
       "</g>\n",
       "<!-- SchoolMotivation&#45;&gt;LikelihoodOfDropout -->\n",
       "<g id=\"edge1\" class=\"edge\">\n",
       "<title>SchoolMotivation-&gt;LikelihoodOfDropout</title>\n",
       "<g id=\"a_edge1\"><a xlink:title=\"0 → 7\">\n",
       "<path fill=\"none\" stroke=\"#4a4a4a\" d=\"M214.32,-75.25C257.35,-64.01 318.4,-48.07 364.52,-36.02\"/>\n",
       "<polygon fill=\"#4a4a4a\" stroke=\"#4a4a4a\" points=\"365.63,-39.35 374.42,-33.44 363.86,-32.58 365.63,-39.35\"/>\n",
       "</a>\n",
       "</g>\n",
       "</g>\n",
       "<!-- SocialFactors -->\n",
       "<g id=\"node6\" class=\"node\">\n",
       "<title>SocialFactors</title>\n",
       "<g id=\"a_node6\"><a xlink:title=\"(6) SocialFactors\">\n",
       "<ellipse fill=\"#404040\" stroke=\"black\" cx=\"344.69\" cy=\"-90\" rx=\"73.39\" ry=\"18\"/>\n",
       "<text text-anchor=\"middle\" x=\"344.69\" y=\"-86.3\" font-family=\"Times,serif\" font-size=\"14.00\" fill=\"white\">SocialFactors</text>\n",
       "</a>\n",
       "</g>\n",
       "</g>\n",
       "<!-- SocialFactors&#45;&gt;LikelihoodOfDropout -->\n",
       "<g id=\"edge5\" class=\"edge\">\n",
       "<title>SocialFactors-&gt;LikelihoodOfDropout</title>\n",
       "<g id=\"a_edge5\"><a xlink:title=\"6 → 7\">\n",
       "<path fill=\"none\" stroke=\"#4a4a4a\" d=\"M364.84,-72.41C375.77,-63.41 389.45,-52.14 401.43,-42.27\"/>\n",
       "<polygon fill=\"#4a4a4a\" stroke=\"#4a4a4a\" points=\"403.91,-44.77 409.4,-35.71 399.46,-39.37 403.91,-44.77\"/>\n",
       "</a>\n",
       "</g>\n",
       "</g>\n",
       "<!-- FamilySupport -->\n",
       "<g id=\"node8\" class=\"node\">\n",
       "<title>FamilySupport</title>\n",
       "<g id=\"a_node8\"><a xlink:title=\"(3) FamilySupport\">\n",
       "<ellipse fill=\"#404040\" stroke=\"black\" cx=\"515.69\" cy=\"-90\" rx=\"79.09\" ry=\"18\"/>\n",
       "<text text-anchor=\"middle\" x=\"515.69\" y=\"-86.3\" font-family=\"Times,serif\" font-size=\"14.00\" fill=\"white\">FamilySupport</text>\n",
       "</a>\n",
       "</g>\n",
       "</g>\n",
       "<!-- FamilySupport&#45;&gt;LikelihoodOfDropout -->\n",
       "<g id=\"edge2\" class=\"edge\">\n",
       "<title>FamilySupport-&gt;LikelihoodOfDropout</title>\n",
       "<g id=\"a_edge2\"><a xlink:title=\"3 → 7\">\n",
       "<path fill=\"none\" stroke=\"#4a4a4a\" d=\"M495.31,-72.41C484.26,-63.41 470.41,-52.14 458.29,-42.27\"/>\n",
       "<polygon fill=\"#4a4a4a\" stroke=\"#4a4a4a\" points=\"460.19,-39.31 450.23,-35.71 455.77,-44.74 460.19,-39.31\"/>\n",
       "</a>\n",
       "</g>\n",
       "</g>\n",
       "</g>\n",
       "</svg>"
      ],
      "text/plain": [
       "(pyAgrum.BayesNet<double>@0x563484cf5680) BN{nodes: 8, arcs: 7, domainSize: 1944, dim: 131, mem: 1Ko 560o}"
      ]
     },
     "execution_count": 32,
     "metadata": {},
     "output_type": "execute_result"
    }
   ],
   "source": [
    "# Showing the BN\n",
    "bn"
   ]
  },
  {
   "cell_type": "code",
   "execution_count": 33,
   "metadata": {},
   "outputs": [],
   "source": [
    "# Compute the posterior probability of the likelihood of dropout - inference\n",
    "# ie.makeInference()\n",
    "ie = gum.VariableElimination(bn)\n",
    "#gnb.showInference(bn, evs={}, engine=ie)\n",
    "\n",
    "\n",
    "# Compile the Bayesian network \n",
    "# ie = gum.LazyPropagation(bn)\n",
    "\n",
    "\n",
    "# Set the evidence (observed nodes)\n",
    "#ie.setEvidence({'Academic Performance': 'low'})\n"
   ]
  }
 ],
 "metadata": {
  "kernelspec": {
   "display_name": "Python 3.10.6 64-bit",
   "language": "python",
   "name": "python3"
  },
  "language_info": {
   "codemirror_mode": {
    "name": "ipython",
    "version": 3
   },
   "file_extension": ".py",
   "mimetype": "text/x-python",
   "name": "python",
   "nbconvert_exporter": "python",
   "pygments_lexer": "ipython3",
   "version": "3.10.6"
  },
  "orig_nbformat": 4,
  "vscode": {
   "interpreter": {
    "hash": "916dbcbb3f70747c44a77c7bcd40155683ae19c65e1c03b4aa3499c5328201f1"
   }
  }
 },
 "nbformat": 4,
 "nbformat_minor": 2
}
